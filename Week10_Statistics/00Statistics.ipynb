{
 "cells": [
  {
   "cell_type": "code",
   "execution_count": 1,
   "metadata": {},
   "outputs": [
    {
     "data": {
      "text/html": [
       "<div>\n",
       "<style scoped>\n",
       "    .dataframe tbody tr th:only-of-type {\n",
       "        vertical-align: middle;\n",
       "    }\n",
       "\n",
       "    .dataframe tbody tr th {\n",
       "        vertical-align: top;\n",
       "    }\n",
       "\n",
       "    .dataframe thead th {\n",
       "        text-align: right;\n",
       "    }\n",
       "</style>\n",
       "<table border=\"1\" class=\"dataframe\">\n",
       "  <thead>\n",
       "    <tr style=\"text-align: right;\">\n",
       "      <th></th>\n",
       "      <th>번호</th>\n",
       "      <th>도서명</th>\n",
       "      <th>저자</th>\n",
       "      <th>출판사</th>\n",
       "      <th>발행년도</th>\n",
       "      <th>ISBN</th>\n",
       "      <th>세트 ISBN</th>\n",
       "      <th>부가기호</th>\n",
       "      <th>권</th>\n",
       "      <th>주제분류번호</th>\n",
       "      <th>도서권수</th>\n",
       "      <th>대출건수</th>\n",
       "      <th>등록일자</th>\n",
       "    </tr>\n",
       "  </thead>\n",
       "  <tbody>\n",
       "    <tr>\n",
       "      <th>0</th>\n",
       "      <td>1</td>\n",
       "      <td>세이노의 가르침</td>\n",
       "      <td>세이노 지음</td>\n",
       "      <td>데이원</td>\n",
       "      <td>2023</td>\n",
       "      <td>9.79117E+12</td>\n",
       "      <td>NaN</td>\n",
       "      <td>0</td>\n",
       "      <td>NaN</td>\n",
       "      <td>199.1</td>\n",
       "      <td>1</td>\n",
       "      <td>0</td>\n",
       "      <td>2023-03-30</td>\n",
       "    </tr>\n",
       "    <tr>\n",
       "      <th>1</th>\n",
       "      <td>2</td>\n",
       "      <td>서울대생의 비밀과외</td>\n",
       "      <td>소린TV,안소린 [공]지음</td>\n",
       "      <td>다산에듀</td>\n",
       "      <td>2023</td>\n",
       "      <td>9.79113E+12</td>\n",
       "      <td>NaN</td>\n",
       "      <td>1</td>\n",
       "      <td>NaN</td>\n",
       "      <td>373.7</td>\n",
       "      <td>1</td>\n",
       "      <td>0</td>\n",
       "      <td>2023-03-30</td>\n",
       "    </tr>\n",
       "    <tr>\n",
       "      <th>2</th>\n",
       "      <td>3</td>\n",
       "      <td>(현직 고등학교 선생님들이 직접 고른) 생기부 필독서 100</td>\n",
       "      <td>주경아 외 지음</td>\n",
       "      <td>센시오</td>\n",
       "      <td>2023</td>\n",
       "      <td>9.79117E+12</td>\n",
       "      <td>NaN</td>\n",
       "      <td>1</td>\n",
       "      <td>NaN</td>\n",
       "      <td>376.6</td>\n",
       "      <td>1</td>\n",
       "      <td>0</td>\n",
       "      <td>2023-03-30</td>\n",
       "    </tr>\n",
       "    <tr>\n",
       "      <th>3</th>\n",
       "      <td>4</td>\n",
       "      <td>당연하게도 나는 너를</td>\n",
       "      <td>이꽃님 지음</td>\n",
       "      <td>우리학교</td>\n",
       "      <td>2023</td>\n",
       "      <td>9.79117E+12</td>\n",
       "      <td>NaN</td>\n",
       "      <td>4</td>\n",
       "      <td>NaN</td>\n",
       "      <td>813.7</td>\n",
       "      <td>1</td>\n",
       "      <td>0</td>\n",
       "      <td>2023-03-30</td>\n",
       "    </tr>\n",
       "    <tr>\n",
       "      <th>4</th>\n",
       "      <td>5</td>\n",
       "      <td>고요한 우연</td>\n",
       "      <td>김수빈 지음</td>\n",
       "      <td>문학동네</td>\n",
       "      <td>2023</td>\n",
       "      <td>9.78895E+12</td>\n",
       "      <td>NaN</td>\n",
       "      <td>0</td>\n",
       "      <td>NaN</td>\n",
       "      <td>813.7</td>\n",
       "      <td>1</td>\n",
       "      <td>0</td>\n",
       "      <td>2023-03-30</td>\n",
       "    </tr>\n",
       "  </tbody>\n",
       "</table>\n",
       "</div>"
      ],
      "text/plain": [
       "   번호                                도서명              저자   출판사  발행년도   \n",
       "0   1                           세이노의 가르침          세이노 지음   데이원  2023  \\\n",
       "1   2                         서울대생의 비밀과외  소린TV,안소린 [공]지음  다산에듀  2023   \n",
       "2   3  (현직 고등학교 선생님들이 직접 고른) 생기부 필독서 100        주경아 외 지음   센시오  2023   \n",
       "3   4                        당연하게도 나는 너를          이꽃님 지음  우리학교  2023   \n",
       "4   5                             고요한 우연          김수빈 지음  문학동네  2023   \n",
       "\n",
       "          ISBN  세트 ISBN 부가기호    권 주제분류번호  도서권수  대출건수        등록일자  \n",
       "0  9.79117E+12      NaN    0  NaN  199.1     1     0  2023-03-30  \n",
       "1  9.79113E+12      NaN    1  NaN  373.7     1     0  2023-03-30  \n",
       "2  9.79117E+12      NaN    1  NaN  376.6     1     0  2023-03-30  \n",
       "3  9.79117E+12      NaN    4  NaN  813.7     1     0  2023-03-30  \n",
       "4  9.78895E+12      NaN    0  NaN  813.7     1     0  2023-03-30  "
      ]
     },
     "execution_count": 1,
     "metadata": {},
     "output_type": "execute_result"
    }
   ],
   "source": [
    "import gdown\n",
    "import pandas as pd\n",
    "\n",
    "# 아래 두개의 값 입력 (로컬 컴퓨터 환경에서 실행은 url 비워둘 것)\n",
    "filename = 'pt_book_fix.csv'  # 예제에서 사용할 filename 입력\n",
    "url = ''    # 여기에 본인이 가진 링크의 난수 입력\n",
    "\n",
    "if url != '' :\n",
    "    gdown.download(f'https://drive.google.com/uc?id={url}', filename, quiet=False)\n",
    "    dir = ''\n",
    "else :\n",
    "    dir = '../_csv/'  # 로컬 컴퓨터 환경에서 사용할 dir (예제는 _csv)\n",
    "\n",
    "pt_book = pd.read_csv(f'{dir}{filename}', index_col=0, low_memory=False)\n",
    "pt_book.head()"
   ]
  },
  {
   "cell_type": "code",
   "execution_count": null,
   "metadata": {},
   "outputs": [],
   "source": []
  },
  {
   "attachments": {},
   "cell_type": "markdown",
   "metadata": {},
   "source": [
    "## 요약 통계"
   ]
  },
  {
   "cell_type": "code",
   "execution_count": 2,
   "metadata": {},
   "outputs": [
    {
     "data": {
      "text/html": [
       "<div>\n",
       "<style scoped>\n",
       "    .dataframe tbody tr th:only-of-type {\n",
       "        vertical-align: middle;\n",
       "    }\n",
       "\n",
       "    .dataframe tbody tr th {\n",
       "        vertical-align: top;\n",
       "    }\n",
       "\n",
       "    .dataframe thead th {\n",
       "        text-align: right;\n",
       "    }\n",
       "</style>\n",
       "<table border=\"1\" class=\"dataframe\">\n",
       "  <thead>\n",
       "    <tr style=\"text-align: right;\">\n",
       "      <th></th>\n",
       "      <th>번호</th>\n",
       "      <th>발행년도</th>\n",
       "      <th>세트 ISBN</th>\n",
       "      <th>도서권수</th>\n",
       "      <th>대출건수</th>\n",
       "    </tr>\n",
       "  </thead>\n",
       "  <tbody>\n",
       "    <tr>\n",
       "      <th>count</th>\n",
       "      <td>207142.000000</td>\n",
       "      <td>207142.000000</td>\n",
       "      <td>1.598900e+04</td>\n",
       "      <td>207142.000000</td>\n",
       "      <td>207142.000000</td>\n",
       "    </tr>\n",
       "    <tr>\n",
       "      <th>mean</th>\n",
       "      <td>112296.234612</td>\n",
       "      <td>2008.155975</td>\n",
       "      <td>9.786803e+12</td>\n",
       "      <td>1.027995</td>\n",
       "      <td>12.922053</td>\n",
       "    </tr>\n",
       "    <tr>\n",
       "      <th>std</th>\n",
       "      <td>65441.386110</td>\n",
       "      <td>9.824295</td>\n",
       "      <td>1.465370e+11</td>\n",
       "      <td>0.194382</td>\n",
       "      <td>21.408999</td>\n",
       "    </tr>\n",
       "    <tr>\n",
       "      <th>min</th>\n",
       "      <td>1.000000</td>\n",
       "      <td>0.000000</td>\n",
       "      <td>8.984980e+10</td>\n",
       "      <td>1.000000</td>\n",
       "      <td>0.000000</td>\n",
       "    </tr>\n",
       "    <tr>\n",
       "      <th>25%</th>\n",
       "      <td>55494.250000</td>\n",
       "      <td>2003.000000</td>\n",
       "      <td>9.788950e+12</td>\n",
       "      <td>1.000000</td>\n",
       "      <td>2.000000</td>\n",
       "    </tr>\n",
       "    <tr>\n",
       "      <th>50%</th>\n",
       "      <td>113103.500000</td>\n",
       "      <td>2008.000000</td>\n",
       "      <td>9.788960e+12</td>\n",
       "      <td>1.000000</td>\n",
       "      <td>6.000000</td>\n",
       "    </tr>\n",
       "    <tr>\n",
       "      <th>75%</th>\n",
       "      <td>169108.750000</td>\n",
       "      <td>2013.000000</td>\n",
       "      <td>9.788990e+12</td>\n",
       "      <td>1.000000</td>\n",
       "      <td>15.000000</td>\n",
       "    </tr>\n",
       "    <tr>\n",
       "      <th>max</th>\n",
       "      <td>227834.000000</td>\n",
       "      <td>3012.000000</td>\n",
       "      <td>9.791200e+12</td>\n",
       "      <td>13.000000</td>\n",
       "      <td>1428.000000</td>\n",
       "    </tr>\n",
       "  </tbody>\n",
       "</table>\n",
       "</div>"
      ],
      "text/plain": [
       "                  번호           발행년도       세트 ISBN           도서권수   \n",
       "count  207142.000000  207142.000000  1.598900e+04  207142.000000  \\\n",
       "mean   112296.234612    2008.155975  9.786803e+12       1.027995   \n",
       "std     65441.386110       9.824295  1.465370e+11       0.194382   \n",
       "min         1.000000       0.000000  8.984980e+10       1.000000   \n",
       "25%     55494.250000    2003.000000  9.788950e+12       1.000000   \n",
       "50%    113103.500000    2008.000000  9.788960e+12       1.000000   \n",
       "75%    169108.750000    2013.000000  9.788990e+12       1.000000   \n",
       "max    227834.000000    3012.000000  9.791200e+12      13.000000   \n",
       "\n",
       "                대출건수  \n",
       "count  207142.000000  \n",
       "mean       12.922053  \n",
       "std        21.408999  \n",
       "min         0.000000  \n",
       "25%         2.000000  \n",
       "50%         6.000000  \n",
       "75%        15.000000  \n",
       "max      1428.000000  "
      ]
     },
     "execution_count": 2,
     "metadata": {},
     "output_type": "execute_result"
    }
   ],
   "source": [
    "pt_book.describe()     # 기술통계 요약"
   ]
  },
  {
   "attachments": {},
   "cell_type": "markdown",
   "metadata": {},
   "source": [
    "**count** : 누락된 값을 제외한 데이터 개수   \n",
    "**mean** : 평균   \n",
    "**std** : 표준편차   \n",
    "**min** : 최솟값   \n",
    "**50%** : 중앙값   \n",
    "**25%와 75%** : 순서대로 늘어 놓았을 때 25% 지점과 75% 지점에 놓인 값   \n",
    "**max** : 최댓값   "
   ]
  },
  {
   "cell_type": "code",
   "execution_count": 3,
   "metadata": {},
   "outputs": [
    {
     "data": {
      "text/html": [
       "<div>\n",
       "<style scoped>\n",
       "    .dataframe tbody tr th:only-of-type {\n",
       "        vertical-align: middle;\n",
       "    }\n",
       "\n",
       "    .dataframe tbody tr th {\n",
       "        vertical-align: top;\n",
       "    }\n",
       "\n",
       "    .dataframe thead th {\n",
       "        text-align: right;\n",
       "    }\n",
       "</style>\n",
       "<table border=\"1\" class=\"dataframe\">\n",
       "  <thead>\n",
       "    <tr style=\"text-align: right;\">\n",
       "      <th></th>\n",
       "      <th>번호</th>\n",
       "      <th>발행년도</th>\n",
       "      <th>세트 ISBN</th>\n",
       "      <th>도서권수</th>\n",
       "      <th>대출건수</th>\n",
       "    </tr>\n",
       "  </thead>\n",
       "  <tbody>\n",
       "    <tr>\n",
       "      <th>count</th>\n",
       "      <td>207142.000000</td>\n",
       "      <td>207142.000000</td>\n",
       "      <td>1.598900e+04</td>\n",
       "      <td>207142.000000</td>\n",
       "      <td>207142.000000</td>\n",
       "    </tr>\n",
       "    <tr>\n",
       "      <th>mean</th>\n",
       "      <td>112296.234612</td>\n",
       "      <td>2008.155975</td>\n",
       "      <td>9.786803e+12</td>\n",
       "      <td>1.027995</td>\n",
       "      <td>12.922053</td>\n",
       "    </tr>\n",
       "    <tr>\n",
       "      <th>std</th>\n",
       "      <td>65441.386110</td>\n",
       "      <td>9.824295</td>\n",
       "      <td>1.465370e+11</td>\n",
       "      <td>0.194382</td>\n",
       "      <td>21.408999</td>\n",
       "    </tr>\n",
       "    <tr>\n",
       "      <th>min</th>\n",
       "      <td>1.000000</td>\n",
       "      <td>0.000000</td>\n",
       "      <td>8.984980e+10</td>\n",
       "      <td>1.000000</td>\n",
       "      <td>0.000000</td>\n",
       "    </tr>\n",
       "    <tr>\n",
       "      <th>30%</th>\n",
       "      <td>66360.300000</td>\n",
       "      <td>2004.000000</td>\n",
       "      <td>9.788950e+12</td>\n",
       "      <td>1.000000</td>\n",
       "      <td>3.000000</td>\n",
       "    </tr>\n",
       "    <tr>\n",
       "      <th>50%</th>\n",
       "      <td>113103.500000</td>\n",
       "      <td>2008.000000</td>\n",
       "      <td>9.788960e+12</td>\n",
       "      <td>1.000000</td>\n",
       "      <td>6.000000</td>\n",
       "    </tr>\n",
       "    <tr>\n",
       "      <th>60%</th>\n",
       "      <td>135566.600000</td>\n",
       "      <td>2010.000000</td>\n",
       "      <td>9.788970e+12</td>\n",
       "      <td>1.000000</td>\n",
       "      <td>9.000000</td>\n",
       "    </tr>\n",
       "    <tr>\n",
       "      <th>90%</th>\n",
       "      <td>202784.900000</td>\n",
       "      <td>2019.000000</td>\n",
       "      <td>9.789000e+12</td>\n",
       "      <td>1.000000</td>\n",
       "      <td>33.000000</td>\n",
       "    </tr>\n",
       "    <tr>\n",
       "      <th>max</th>\n",
       "      <td>227834.000000</td>\n",
       "      <td>3012.000000</td>\n",
       "      <td>9.791200e+12</td>\n",
       "      <td>13.000000</td>\n",
       "      <td>1428.000000</td>\n",
       "    </tr>\n",
       "  </tbody>\n",
       "</table>\n",
       "</div>"
      ],
      "text/plain": [
       "                  번호           발행년도       세트 ISBN           도서권수   \n",
       "count  207142.000000  207142.000000  1.598900e+04  207142.000000  \\\n",
       "mean   112296.234612    2008.155975  9.786803e+12       1.027995   \n",
       "std     65441.386110       9.824295  1.465370e+11       0.194382   \n",
       "min         1.000000       0.000000  8.984980e+10       1.000000   \n",
       "30%     66360.300000    2004.000000  9.788950e+12       1.000000   \n",
       "50%    113103.500000    2008.000000  9.788960e+12       1.000000   \n",
       "60%    135566.600000    2010.000000  9.788970e+12       1.000000   \n",
       "90%    202784.900000    2019.000000  9.789000e+12       1.000000   \n",
       "max    227834.000000    3012.000000  9.791200e+12      13.000000   \n",
       "\n",
       "                대출건수  \n",
       "count  207142.000000  \n",
       "mean       12.922053  \n",
       "std        21.408999  \n",
       "min         0.000000  \n",
       "30%         3.000000  \n",
       "50%         6.000000  \n",
       "60%         9.000000  \n",
       "90%        33.000000  \n",
       "max      1428.000000  "
      ]
     },
     "execution_count": 3,
     "metadata": {},
     "output_type": "execute_result"
    }
   ],
   "source": [
    "pt_book.describe(percentiles=[0.3, 0.6, 0.9])   # 특정 퍼센티지"
   ]
  },
  {
   "cell_type": "code",
   "execution_count": 4,
   "metadata": {},
   "outputs": [
    {
     "data": {
      "text/html": [
       "<div>\n",
       "<style scoped>\n",
       "    .dataframe tbody tr th:only-of-type {\n",
       "        vertical-align: middle;\n",
       "    }\n",
       "\n",
       "    .dataframe tbody tr th {\n",
       "        vertical-align: top;\n",
       "    }\n",
       "\n",
       "    .dataframe thead th {\n",
       "        text-align: right;\n",
       "    }\n",
       "</style>\n",
       "<table border=\"1\" class=\"dataframe\">\n",
       "  <thead>\n",
       "    <tr style=\"text-align: right;\">\n",
       "      <th></th>\n",
       "      <th>도서명</th>\n",
       "      <th>저자</th>\n",
       "      <th>출판사</th>\n",
       "      <th>ISBN</th>\n",
       "      <th>부가기호</th>\n",
       "      <th>권</th>\n",
       "      <th>주제분류번호</th>\n",
       "      <th>등록일자</th>\n",
       "    </tr>\n",
       "  </thead>\n",
       "  <tbody>\n",
       "    <tr>\n",
       "      <th>count</th>\n",
       "      <td>207142</td>\n",
       "      <td>207142</td>\n",
       "      <td>207142</td>\n",
       "      <td>207142</td>\n",
       "      <td>158938</td>\n",
       "      <td>49819</td>\n",
       "      <td>206211</td>\n",
       "      <td>207142</td>\n",
       "    </tr>\n",
       "    <tr>\n",
       "      <th>unique</th>\n",
       "      <td>180465</td>\n",
       "      <td>139952</td>\n",
       "      <td>13468</td>\n",
       "      <td>244</td>\n",
       "      <td>15</td>\n",
       "      <td>662</td>\n",
       "      <td>8131</td>\n",
       "      <td>4504</td>\n",
       "    </tr>\n",
       "    <tr>\n",
       "      <th>top</th>\n",
       "      <td>(KBS)역사스페셜</td>\n",
       "      <td>편집부 편</td>\n",
       "      <td>웅진씽크빅</td>\n",
       "      <td>9.78899E+12</td>\n",
       "      <td>0</td>\n",
       "      <td>1</td>\n",
       "      <td>813.6</td>\n",
       "      <td>1998-07-11</td>\n",
       "    </tr>\n",
       "    <tr>\n",
       "      <th>freq</th>\n",
       "      <td>100</td>\n",
       "      <td>253</td>\n",
       "      <td>3056</td>\n",
       "      <td>38875</td>\n",
       "      <td>74017</td>\n",
       "      <td>7929</td>\n",
       "      <td>9583</td>\n",
       "      <td>3641</td>\n",
       "    </tr>\n",
       "  </tbody>\n",
       "</table>\n",
       "</div>"
      ],
      "text/plain": [
       "               도서명      저자     출판사         ISBN    부가기호      권  주제분류번호   \n",
       "count       207142  207142  207142       207142  158938  49819  206211  \\\n",
       "unique      180465  139952   13468          244      15    662    8131   \n",
       "top     (KBS)역사스페셜   편집부 편   웅진씽크빅  9.78899E+12       0      1   813.6   \n",
       "freq           100     253    3056        38875   74017   7929    9583   \n",
       "\n",
       "              등록일자  \n",
       "count       207142  \n",
       "unique        4504  \n",
       "top     1998-07-11  \n",
       "freq          3641  "
      ]
     },
     "execution_count": 4,
     "metadata": {},
     "output_type": "execute_result"
    }
   ],
   "source": [
    "pt_book.describe(include='object')"
   ]
  },
  {
   "attachments": {},
   "cell_type": "markdown",
   "metadata": {},
   "source": [
    "## 계산 함수"
   ]
  },
  {
   "cell_type": "code",
   "execution_count": 5,
   "metadata": {},
   "outputs": [
    {
     "name": "stdout",
     "output_type": "stream",
     "text": [
      "12.922053470566086 6.0\n"
     ]
    }
   ],
   "source": [
    "loan_mean = pt_book['대출건수'].mean()\n",
    "loan_median = pt_book['대출건수'].median()\n",
    "print(loan_mean, loan_median)"
   ]
  },
  {
   "cell_type": "code",
   "execution_count": 6,
   "metadata": {},
   "outputs": [
    {
     "data": {
      "text/plain": [
       "161.5"
      ]
     },
     "execution_count": 6,
     "metadata": {},
     "output_type": "execute_result"
    }
   ],
   "source": [
    "pt_book['대출건수'].drop_duplicates().median()  # 중복값 제거"
   ]
  },
  {
   "cell_type": "code",
   "execution_count": 7,
   "metadata": {},
   "outputs": [
    {
     "name": "stdout",
     "output_type": "stream",
     "text": [
      "0 1428\n"
     ]
    }
   ],
   "source": [
    "loan_min = pt_book['대출건수'].min()\n",
    "loan_max = pt_book['대출건수'].max()\n",
    "print(loan_min, loan_max)"
   ]
  },
  {
   "cell_type": "code",
   "execution_count": 8,
   "metadata": {},
   "outputs": [
    {
     "data": {
      "text/plain": [
       "0.25     2.0\n",
       "0.50     6.0\n",
       "0.75    15.0\n",
       "Name: 대출건수, dtype: float64"
      ]
     },
     "execution_count": 8,
     "metadata": {},
     "output_type": "execute_result"
    }
   ],
   "source": [
    "pt_book['대출건수'].quantile(0.25)  # 분위값 (하위 25%)\n",
    "pt_book['대출건수'].quantile([0.25,0.5,0.75])\n",
    "# quantile은 보간을 하기때문에 두사이 지점의 특정위치의 값을 구함 (interpolation ='midpoint', 'nearest')"
   ]
  },
  {
   "cell_type": "code",
   "execution_count": 9,
   "metadata": {},
   "outputs": [
    {
     "data": {
      "text/plain": [
       "0.6263384538142917"
      ]
     },
     "execution_count": 9,
     "metadata": {},
     "output_type": "execute_result"
    }
   ],
   "source": [
    "borrow_10_flag = pt_book['대출건수'] < 10   # 백분위, 10보다 작은 리스트\n",
    "borrow_10_flag.mean()  # 리스트의 평균 (비율)"
   ]
  },
  {
   "attachments": {},
   "cell_type": "markdown",
   "metadata": {},
   "source": [
    "## 통계 함수"
   ]
  },
  {
   "cell_type": "code",
   "execution_count": 10,
   "metadata": {},
   "outputs": [
    {
     "data": {
      "text/plain": [
       "458.34524056239843"
      ]
     },
     "execution_count": 10,
     "metadata": {},
     "output_type": "execute_result"
    }
   ],
   "source": [
    "pt_book['대출건수'].var()   # 분산"
   ]
  },
  {
   "cell_type": "code",
   "execution_count": 11,
   "metadata": {},
   "outputs": [
    {
     "data": {
      "text/plain": [
       "21.408999055593384"
      ]
     },
     "execution_count": 11,
     "metadata": {},
     "output_type": "execute_result"
    }
   ],
   "source": [
    "pt_book['대출건수'].std()   # 표준편차"
   ]
  },
  {
   "cell_type": "code",
   "execution_count": 12,
   "metadata": {},
   "outputs": [
    {
     "data": {
      "text/plain": [
       "0    (KBS)역사스페셜\n",
       "Name: 도서명, dtype: object"
      ]
     },
     "execution_count": 12,
     "metadata": {},
     "output_type": "execute_result"
    }
   ],
   "source": [
    "pt_book['도서명'].mode()    # 최빈값 (가장 많이 등장하는 값)"
   ]
  },
  {
   "cell_type": "code",
   "execution_count": 13,
   "metadata": {},
   "outputs": [
    {
     "data": {
      "text/plain": [
       "번호         1.122962e+05\n",
       "발행년도       2.008156e+03\n",
       "세트 ISBN    9.786803e+12\n",
       "도서권수       1.027995e+00\n",
       "대출건수       1.292205e+01\n",
       "dtype: float64"
      ]
     },
     "execution_count": 13,
     "metadata": {},
     "output_type": "execute_result"
    }
   ],
   "source": [
    "pt_book.mean(numeric_only=True)     # 수치형 열만 연산"
   ]
  },
  {
   "cell_type": "code",
   "execution_count": 14,
   "metadata": {},
   "outputs": [
    {
     "data": {
      "text/html": [
       "<div>\n",
       "<style scoped>\n",
       "    .dataframe tbody tr th:only-of-type {\n",
       "        vertical-align: middle;\n",
       "    }\n",
       "\n",
       "    .dataframe tbody tr th {\n",
       "        vertical-align: top;\n",
       "    }\n",
       "\n",
       "    .dataframe thead th {\n",
       "        text-align: right;\n",
       "    }\n",
       "</style>\n",
       "<table border=\"1\" class=\"dataframe\">\n",
       "  <thead>\n",
       "    <tr style=\"text-align: right;\">\n",
       "      <th></th>\n",
       "      <th>도서명</th>\n",
       "      <th>저자</th>\n",
       "      <th>출판사</th>\n",
       "      <th>발행년도</th>\n",
       "      <th>ISBN</th>\n",
       "      <th>세트 ISBN</th>\n",
       "      <th>부가기호</th>\n",
       "      <th>권</th>\n",
       "      <th>주제분류번호</th>\n",
       "      <th>도서권수</th>\n",
       "      <th>대출건수</th>\n",
       "      <th>등록일자</th>\n",
       "    </tr>\n",
       "  </thead>\n",
       "  <tbody>\n",
       "    <tr>\n",
       "      <th>0</th>\n",
       "      <td>(KBS)역사스페셜</td>\n",
       "      <td>편집부 편</td>\n",
       "      <td>웅진씽크빅</td>\n",
       "      <td>2003</td>\n",
       "      <td>9.78899E+12</td>\n",
       "      <td>9.788960e+12</td>\n",
       "      <td>0</td>\n",
       "      <td>1</td>\n",
       "      <td>813.6</td>\n",
       "      <td>1</td>\n",
       "      <td>0</td>\n",
       "      <td>1998-07-11</td>\n",
       "    </tr>\n",
       "  </tbody>\n",
       "</table>\n",
       "</div>"
      ],
      "text/plain": [
       "          도서명     저자    출판사  발행년도         ISBN       세트 ISBN 부가기호  권 주제분류번호   \n",
       "0  (KBS)역사스페셜  편집부 편  웅진씽크빅  2003  9.78899E+12  9.788960e+12    0  1  813.6  \\\n",
       "\n",
       "   도서권수  대출건수        등록일자  \n",
       "0     1     0  1998-07-11  "
      ]
     },
     "execution_count": 14,
     "metadata": {},
     "output_type": "execute_result"
    }
   ],
   "source": [
    "pt_book.loc[:, '도서명':].mode()"
   ]
  }
 ],
 "metadata": {
  "kernelspec": {
   "display_name": "Python 3",
   "language": "python",
   "name": "python3"
  },
  "language_info": {
   "codemirror_mode": {
    "name": "ipython",
    "version": 3
   },
   "file_extension": ".py",
   "mimetype": "text/x-python",
   "name": "python",
   "nbconvert_exporter": "python",
   "pygments_lexer": "ipython3",
   "version": "3.11.0"
  },
  "orig_nbformat": 4
 },
 "nbformat": 4,
 "nbformat_minor": 2
}
