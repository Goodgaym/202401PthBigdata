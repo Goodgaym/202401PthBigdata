{
 "cells": [
  {
   "cell_type": "markdown",
   "metadata": {},
   "source": [
    "# 1주차\n",
    "\n",
    "## 0. 클래스와 인스턴스\n",
    "> 클래스 : 청사진, 부류, 객체정보   \n",
    "> 인스턴스 : 실체가 있는 것. 객체   "
   ]
  },
  {
   "cell_type": "code",
   "execution_count": 93,
   "metadata": {},
   "outputs": [],
   "source": [
    "class Warrior:\n",
    "    power = 30\n",
    "\n",
    "    def __init__(self):\n",
    "        self.level = 1\n",
    "\n",
    "    def attack(self):\n",
    "        print(\"Boom!\")\n",
    "    \n",
    "    def info():\n",
    "        print(\"Powerful!\")\n",
    "\n",
    "    def retID(self):\n",
    "        return id(self)\n",
    "    \n",
    "    def levelUp(self):\n",
    "        print(\"LevelUp!\")\n",
    "        # level += 1 error\n",
    "        self.level += 1\n"
   ]
  },
  {
   "cell_type": "code",
   "execution_count": 94,
   "metadata": {},
   "outputs": [
    {
     "name": "stdout",
     "output_type": "stream",
     "text": [
      "Boom!\n",
      "Boom!\n"
     ]
    }
   ],
   "source": [
    "john = Warrior()\n",
    "mary = Warrior()\n",
    "\n",
    "john.attack()\n",
    "mary.attack()"
   ]
  },
  {
   "cell_type": "markdown",
   "metadata": {},
   "source": [
    "## 1. 클래스의 정보\n",
    "self는 클래스의 객체를 가리킴   \n",
    "클래스의 객체 구분을 위해 self를 인자로 보내 구분을 함   "
   ]
  },
  {
   "cell_type": "code",
   "execution_count": 95,
   "metadata": {},
   "outputs": [
    {
     "name": "stdout",
     "output_type": "stream",
     "text": [
      "Powerful!\n",
      "1456390892496\n",
      "1456390892496\n",
      "1456391119824\n",
      "1456391119824\n",
      "1456391119824\n"
     ]
    }
   ],
   "source": [
    "# john.info() error!!\n",
    "Warrior.info()\n",
    "\n",
    "# 같게 출력 됨\n",
    "print(id(john))\n",
    "print(john.retID())\n",
    "\n",
    "# 같게 출력 됨\n",
    "print(id(mary))\n",
    "print(mary.retID())\n",
    "\n",
    "print(Warrior.retID(mary))"
   ]
  },
  {
   "cell_type": "markdown",
   "metadata": {},
   "source": [
    "오버플로우 :   \n",
    "\n",
    "- 숫자도 객체   \n",
    "파이썬은 거의 무한대의 숫자를 변수에 할당 할 수 있음   \n",
    "변수가 가르키는 객체(위의 숫자 7)는 **자신을 얼마나 많은 변수들이 참조**하고 있는지, 객체 자신이 가지고 있는 **타입에 대한 정보**, 오버플로우를 방지하기 위한 정보 등을 가지고 있다.   \n",
    "숫자를 변수에 할당할때 마다 이런 정보도 저장하기 때문에 파이썬은 느리다.   \n",
    "\n"
   ]
  },
  {
   "cell_type": "code",
   "execution_count": 96,
   "metadata": {},
   "outputs": [
    {
     "name": "stdout",
     "output_type": "stream",
     "text": [
      "True\n",
      "True\n",
      "False\n",
      "True\n",
      "140718613586920\n",
      "140718613586920\n"
     ]
    }
   ],
   "source": [
    "print(isinstance(john, Warrior))\n",
    "number = 7\n",
    "print(isinstance(number, int))\n",
    "\n",
    "print(isinstance(number, Warrior))\n",
    "\n",
    "print(isinstance(7, int))\n",
    "\n",
    "# 둘다 같은 메모리를 가르키고 있다.\n",
    "print(id(7))\n",
    "print(id(number))"
   ]
  },
  {
   "cell_type": "markdown",
   "metadata": {},
   "source": [
    "## 2. 객체의 멤버변수 연산\n",
    "\n",
    "객체가 가지고 있는 정보는 자기 자신을 수정해야 적용되기 때문에 'self'를 붙여 값을 연산하여야 한다.\n",
    "클래스 내부에서 self를 통해 연산하거나 객체를 통해 연산되는 변수를 '객체 변수'\n",
    "클래스 이름을 가지고 연산하는 변수를 '클래스 변수'"
   ]
  },
  {
   "cell_type": "code",
   "execution_count": 97,
   "metadata": {},
   "outputs": [
    {
     "name": "stdout",
     "output_type": "stream",
     "text": [
      "30\n",
      "30\n",
      "31\n",
      "30\n"
     ]
    }
   ],
   "source": [
    "print(john.power)\n",
    "print(mary.power)\n",
    "\n",
    "john.power += 1\n",
    "\n",
    "print(john.power)\n",
    "print(mary.power)"
   ]
  },
  {
   "cell_type": "code",
   "execution_count": 98,
   "metadata": {},
   "outputs": [
    {
     "name": "stdout",
     "output_type": "stream",
     "text": [
      "31\n",
      "30\n",
      "31\n",
      "33\n"
     ]
    }
   ],
   "source": [
    "print(john.power)\n",
    "print(mary.power)\n",
    "\n",
    "Warrior.power += 3\n",
    "\n",
    "print(john.power)\n",
    "print(mary.power)"
   ]
  },
  {
   "cell_type": "markdown",
   "metadata": {},
   "source": [
    "중간에 클래스 변수를 지정해서 값을 지정하게 되면 객체변수로 변경되어 따로 저장이 되게 되어 클래스 변수를 연산해도 값이 바뀌지 않게 된다."
   ]
  },
  {
   "cell_type": "code",
   "execution_count": 99,
   "metadata": {},
   "outputs": [
    {
     "name": "stdout",
     "output_type": "stream",
     "text": [
      "1\n",
      "1\n",
      "LevelUp!\n",
      "2\n",
      "1\n"
     ]
    }
   ],
   "source": [
    "print(john.level)\n",
    "print(mary.level)\n",
    "\n",
    "john.levelUp()\n",
    "# Warrior.levelUp() error!\n",
    "\n",
    "print(john.level)\n",
    "print(mary.level)"
   ]
  }
 ],
 "metadata": {
  "kernelspec": {
   "display_name": ".venv",
   "language": "python",
   "name": "python3"
  },
  "language_info": {
   "codemirror_mode": {
    "name": "ipython",
    "version": 3
   },
   "file_extension": ".py",
   "mimetype": "text/x-python",
   "name": "python",
   "nbconvert_exporter": "python",
   "pygments_lexer": "ipython3",
   "version": "3.11.4"
  },
  "orig_nbformat": 4
 },
 "nbformat": 4,
 "nbformat_minor": 2
}
